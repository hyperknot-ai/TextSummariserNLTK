{
  "nbformat": 4,
  "nbformat_minor": 0,
  "metadata": {
    "colab": {
      "name": "NLTK Text Summariser.ipynb",
      "provenance": [],
      "collapsed_sections": []
    },
    "kernelspec": {
      "name": "python3",
      "display_name": "Python 3"
    }
  },
  "cells": [
    {
      "cell_type": "markdown",
      "metadata": {
        "id": "DYdST9hX98iv"
      },
      "source": [
        "Import required packages"
      ]
    },
    {
      "cell_type": "code",
      "metadata": {
        "id": "n2QCA9UP92sX"
      },
      "source": [
        "import nltk \n",
        "from nltk.corpus import stopwords \n",
        "from nltk.tokenize import word_tokenize, sent_tokenize "
      ],
      "execution_count": 1,
      "outputs": []
    },
    {
      "cell_type": "markdown",
      "metadata": {
        "id": "lu1cKSPt-HhY"
      },
      "source": [
        "Download Stopwords"
      ]
    },
    {
      "cell_type": "code",
      "metadata": {
        "id": "IeN0OYLP-LPU",
        "outputId": "c55967e5-5d77-433d-af9b-15c39939ea1e",
        "colab": {
          "base_uri": "https://localhost:8080/",
          "height": 101
        }
      },
      "source": [
        "nltk.download('stopwords')\n",
        "nltk.download('punkt')"
      ],
      "execution_count": 2,
      "outputs": [
        {
          "output_type": "stream",
          "text": [
            "[nltk_data] Downloading package stopwords to /root/nltk_data...\n",
            "[nltk_data]   Unzipping corpora/stopwords.zip.\n",
            "[nltk_data] Downloading package punkt to /root/nltk_data...\n",
            "[nltk_data]   Unzipping tokenizers/punkt.zip.\n"
          ],
          "name": "stdout"
        },
        {
          "output_type": "execute_result",
          "data": {
            "text/plain": [
              "True"
            ]
          },
          "metadata": {
            "tags": []
          },
          "execution_count": 2
        }
      ]
    },
    {
      "cell_type": "markdown",
      "metadata": {
        "id": "EuCkm5YP-PFD"
      },
      "source": [
        "Text to be summarised"
      ]
    },
    {
      "cell_type": "code",
      "metadata": {
        "id": "Sb_F0uwL-TSf"
      },
      "source": [
        "text = \"Russian hackers are attempting to steal coronavirus vaccine research, the American, British and Canadian governments said Thursday, accusing the Kremlin of opening a new front in its spy battles with the West amid the worldwide competition to contain the pandemic. The National Security Agency said that a hacking group implicated in the 2016 break-ins into Democratic Party servers has been trying to steal intelligence on vaccines from universities, companies and other health care organizations. The group, associated with Russian intelligence and known as both APT29 and Cozy Bear, has sought to exploit the chaos created by the coronavirus pandemic, officials said. American intelligence officials said the Russians were aiming to steal research to develop their own vaccine more quickly, not to sabotage other countries efforts. There was likely little immediate damage to global public health, cybersecurity experts said. The Russian espionage nevertheless signals a new kind of competition between Moscow and Washington akin to Cold War spies stealing technological secrets during the space race generations ago. The Russian hackers have targeted British, Canadian and American organizations using malware and sending fraudulent emails to try to trick their employees into turning over passwords and other security credentials, all in an effort to gain access to the vaccine research as well as information about medical supply chains. The accusations against Russia were also the latest example of an increasing willingness in recent months by the United States and its closest intelligence allies to publicly accuse foreign adversaries of breaches and cyberattacks. The American government has previously warned about efforts by China and Iran to steal vaccine research. Attributing such attacks, however, is imprecise, an ambiguity that Moscow takes advantage of in denying responsibility, as it did Thursday. Still, government officials, as well as outside experts, expressed strong confidence that Cozy Bear, controlled by Russia’s elite S.V.R. intelligence agency, was responsible for the attempted intrusions into the virus vaccine research. We condemn these despicable attacks against those doing vital work to combat the coronavirus pandemic, said Paul Chichester, the director of operations for Britain’s National Cyber Security Center. The head of the center, Ciaran Martin, told NBC News that the cyberattacks were first detected in February and that no evidence had emerged that data was stolen.\""
      ],
      "execution_count": 3,
      "outputs": []
    },
    {
      "cell_type": "markdown",
      "metadata": {
        "id": "wx4zUGoL-Uyd"
      },
      "source": [
        "Tokenise the text"
      ]
    },
    {
      "cell_type": "code",
      "metadata": {
        "id": "f7pHfu1i-bOi"
      },
      "source": [
        "stopWords = set(stopwords.words(\"english\")) \n",
        "words = word_tokenize(text) "
      ],
      "execution_count": 4,
      "outputs": []
    },
    {
      "cell_type": "markdown",
      "metadata": {
        "id": "CXA76c6A-ehB"
      },
      "source": [
        "Create frequency table and assign scores to words"
      ]
    },
    {
      "cell_type": "code",
      "metadata": {
        "id": "Pja1d6Qi-eJB"
      },
      "source": [
        "freqTable = dict() \n",
        "for word in words: \n",
        "    word = word.lower() \n",
        "    if word in stopWords: \n",
        "        continue\n",
        "    if word in freqTable: \n",
        "        freqTable[word] += 1\n",
        "    else: \n",
        "        freqTable[word] = 1"
      ],
      "execution_count": 5,
      "outputs": []
    },
    {
      "cell_type": "markdown",
      "metadata": {
        "id": "9kdwsrZd-rBk"
      },
      "source": [
        "Create dictionary to keep scores of sentences"
      ]
    },
    {
      "cell_type": "code",
      "metadata": {
        "id": "n5dtekV2-wJb"
      },
      "source": [
        "sentences = sent_tokenize(text) \n",
        "sentenceValue = dict() \n",
        "   \n",
        "for sentence in sentences: \n",
        "    for word, freq in freqTable.items(): \n",
        "        if word in sentence.lower(): \n",
        "            if sentence in sentenceValue: \n",
        "                sentenceValue[sentence] += freq \n",
        "            else: \n",
        "                sentenceValue[sentence] = freq \n",
        "   \n",
        "   \n",
        "   \n",
        "sumValues = 0\n",
        "for sentence in sentenceValue: \n",
        "    sumValues += sentenceValue[sentence] "
      ],
      "execution_count": 6,
      "outputs": []
    },
    {
      "cell_type": "markdown",
      "metadata": {
        "id": "Rs_Tx_np-0JW"
      },
      "source": [
        "Average value of a sentence in original text"
      ]
    },
    {
      "cell_type": "code",
      "metadata": {
        "id": "dpEutxk5-zvQ"
      },
      "source": [
        "average = int(sumValues / len(sentenceValue)) "
      ],
      "execution_count": 7,
      "outputs": []
    },
    {
      "cell_type": "markdown",
      "metadata": {
        "id": "GqZif4ct_AKZ"
      },
      "source": [
        "Storing sentences into our summary"
      ]
    },
    {
      "cell_type": "code",
      "metadata": {
        "id": "nslFM4Nx_C_q",
        "outputId": "51ded56b-d78b-40c3-9695-6ffe05cff419",
        "colab": {
          "base_uri": "https://localhost:8080/",
          "height": 54
        }
      },
      "source": [
        "summary = '' \n",
        "for sentence in sentences: \n",
        "    if (sentence in sentenceValue) and (sentenceValue[sentence] > (1.2 * average)): \n",
        "        summary += \" \" + sentence \n",
        "print(summary) "
      ],
      "execution_count": 8,
      "outputs": [
        {
          "output_type": "stream",
          "text": [
            " Russian hackers are attempting to steal coronavirus vaccine research, the American, British and Canadian governments said Thursday, accusing the Kremlin of opening a new front in its spy battles with the West amid the worldwide competition to contain the pandemic. The National Security Agency said that a hacking group implicated in the 2016 break-ins into Democratic Party servers has been trying to steal intelligence on vaccines from universities, companies and other health care organizations. American intelligence officials said the Russians were aiming to steal research to develop their own vaccine more quickly, not to sabotage other countries efforts. The Russian hackers have targeted British, Canadian and American organizations using malware and sending fraudulent emails to try to trick their employees into turning over passwords and other security credentials, all in an effort to gain access to the vaccine research as well as information about medical supply chains.\n"
          ],
          "name": "stdout"
        }
      ]
    }
  ]
}